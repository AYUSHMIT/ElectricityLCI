{
 "cells": [
  {
   "cell_type": "code",
   "execution_count": null,
   "metadata": {
    "collapsed": true
   },
   "outputs": [],
   "source": [
    "#************************************************************************************************************************************************************\n",
    "##############################################################################################################################################################\n",
    "\"\"\"\n",
    "This Code is used to Match the facilities with EGRID FRS crosswalk and then match with FRS-Database crosswalk to directly link \n",
    "Databases to EGRID. \n",
    "\n",
    "@author: tghosh\n",
    "\n",
    "PLEASE run every block of code separately as this not a continuous code but a set of Pandas statements that work BLOCK by BLOCK.\n",
    "\"\"\"\n",
    "#############################################################################################################################\n",
    "#************************\n",
    "\n",
    "#Read Crosswalk FRS to EIS File\n",
    "frs_eis = pd.read_csv(\"FRStoEIS1.csv\", header=0,usecols=['REGISTRY_ID','PGM_SYS_ACRNM', 'PGM_SYS_ID'],dtype={'REGISTRY_ID':\"str\",'PGM_SYS_ACRNM':\"str\",'PGM_SYS_ID':\"str\"}, nrows= 154875, error_bad_lines=False)\n",
    "frs_eis = frs_eis.rename(columns={'REGISTRY_ID':'FRS ID'})\n",
    "frs_eis = frs_eis.rename(columns={'PGM_SYS_ID':'EIS ID'})\n",
    "\n",
    "\n",
    "#Read Egrid to FRS crosswalk 6119 facilities file\n",
    "frs_egrid = pd.read_csv(\"egridfrs3.csv\", header=0,usecols=['FRS_ID','PNAME', 'ORISPL'],dtype={'FRS_ID':\"str\",'PNAME':\"str\",'ORISPL':\"str\"},nrows= 6152, error_bad_lines=False)\n",
    "frs_egrid = frs_egrid.rename(columns={'ORISPL':'EGRID ID'})\n",
    "\n",
    "\n",
    "\n",
    "egrid_eis = pd.merge(frs_eis,frs_egrid,left_on = ['FRS ID'], right_on = ['FRS_ID'])\n",
    "\n",
    "#************************************************************************************************************************************************************\n",
    "##############################################################################################################################################################\n",
    "\n",
    "\n",
    "#Read Crosswalk FRS to TRI File\n",
    "frs_tri = pd.read_csv(\"FRStoTRI1.csv\", header=0,usecols=['REGISTRY_ID','PGM_SYS_ACRNM', 'PGM_SYS_ID'],dtype={'REGISTRY_ID':\"str\",'PGM_SYS_ACRNM':\"str\",'PGM_SYS_ID':\"str\"}, nrows= 62219, error_bad_lines=False)\n",
    "frs_tri = frs_tri.rename(columns={'REGISTRY_ID':'FRS ID'})\n",
    "frs_tri = frs_tri.rename(columns={'PGM_SYS_ID':'TRI ID'})\n",
    "\n",
    "\n",
    "egrid_tri = pd.merge(frs_tri,frs_egrid,left_on = ['FRS ID'], right_on = ['FRS_ID'])\n",
    "\n",
    "#************************************************************************************************************************************************************\n",
    "##############################################################################################################################################################\n",
    "\n",
    "\n",
    "#NPDES\n",
    "frs_npd = pd.read_csv(\"FRStoNPDES1.csv\", header=0,usecols=['REGISTRY_ID','PGM_SYS_ACRNM', 'PGM_SYS_ID'],dtype={'REGISTRY_ID':\"str\",'PGM_SYS_ACRNM':\"str\",'PGM_SYS_ID':\"str\"}, nrows= 669101, error_bad_lines=False)\n",
    "frs_npd = frs_npd.rename(columns={'REGISTRY_ID':'FRS ID'})\n",
    "frs_npd = frs_npd.rename(columns={'PGM_SYS_ID':'NPDES ID'})\n",
    "\n",
    "egrid_npd = pd.merge(frs_npd,frs_egrid,left_on = ['FRS ID'], right_on = ['FRS_ID'])\n",
    "#************************************************************************************************************************************************************\n",
    "##############################################################################################################################################################\n",
    "\n",
    "\n",
    "egrid_eis.to_csv('egridtoeis.csv')\n",
    "egrid_npd.to_csv('egridtonpdes.csv')\n",
    "egrid_tri.to_csv('egridtotri.csv')\n",
    "\n",
    "#************************************************************************************************************************************************************\n",
    "##############################################################################################################################################################\n"
   ]
  }
 ],
 "metadata": {
  "kernelspec": {
   "display_name": "Python 3",
   "language": "python",
   "name": "python3"
  },
  "language_info": {
   "codemirror_mode": {
    "name": "ipython",
    "version": 3
   },
   "file_extension": ".py",
   "mimetype": "text/x-python",
   "name": "python",
   "nbconvert_exporter": "python",
   "pygments_lexer": "ipython3",
   "version": "3.6.1"
  }
 },
 "nbformat": 4,
 "nbformat_minor": 2
}
