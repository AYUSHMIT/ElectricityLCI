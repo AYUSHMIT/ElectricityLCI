{
 "cells": [
  {
   "cell_type": "code",
   "execution_count": 84,
   "metadata": {
    "collapsed": false
   },
   "outputs": [
    {
     "data": {
      "text/plain": [
       "Index([' PNAME ', 'ORISPL', ' OPRNAME '], dtype='object')"
      ]
     },
     "execution_count": 84,
     "metadata": {},
     "output_type": "execute_result"
    }
   ],
   "source": [
    "import pandas as pd\n",
    "#Step 1 - Import eGRID 2014 plant data\n",
    "#Import file and store as a data frame\n",
    "EGRID = pd.read_csv(\"EGRIDPlant2014.csv\", header=0, usecols=[2,3,4],dtype={2:\"str\",3:\"str\",4:\"str\"})\n",
    "EGRID.columns"
   ]
  },
  {
   "cell_type": "code",
   "execution_count": 85,
   "metadata": {
    "collapsed": false
   },
   "outputs": [],
   "source": [
    "EGRID.to_csv('egridfromimport.csv')"
   ]
  },
  {
   "cell_type": "code",
   "execution_count": 86,
   "metadata": {
    "collapsed": false
   },
   "outputs": [
    {
     "data": {
      "text/plain": [
       "23428"
      ]
     },
     "execution_count": 86,
     "metadata": {},
     "output_type": "execute_result"
    }
   ],
   "source": [
    "len(EGRID.index)"
   ]
  },
  {
   "cell_type": "code",
   "execution_count": 87,
   "metadata": {
    "collapsed": false
   },
   "outputs": [],
   "source": [
    "EGRID = EGRID.dropna(axis=0,how='all')"
   ]
  },
  {
   "cell_type": "code",
   "execution_count": 88,
   "metadata": {
    "collapsed": false
   },
   "outputs": [
    {
     "data": {
      "text/plain": [
       "8503"
      ]
     },
     "execution_count": 88,
     "metadata": {},
     "output_type": "execute_result"
    }
   ],
   "source": [
    "len(EGRID['ORISPL'])"
   ]
  },
  {
   "cell_type": "code",
   "execution_count": 89,
   "metadata": {
    "collapsed": false
   },
   "outputs": [
    {
     "data": {
      "text/plain": [
       "Index([' PNAME ', 'ORISPL', ' OPRNAME '], dtype='object')"
      ]
     },
     "execution_count": 89,
     "metadata": {},
     "output_type": "execute_result"
    }
   ],
   "source": [
    "EGRID.columns"
   ]
  },
  {
   "cell_type": "code",
   "execution_count": 129,
   "metadata": {
    "collapsed": false
   },
   "outputs": [
    {
     "data": {
      "text/plain": [
       "Index(['PGM_SYS_ID', 'REGISTRY_ID', 'PRIMARY_NAME'], dtype='object')"
      ]
     },
     "execution_count": 129,
     "metadata": {},
     "output_type": "execute_result"
    }
   ],
   "source": [
    "FRS_EGRID = pd.read_csv(\"FRS_EGRID_mapping.csv\", header=0,  usecols=[1,2,3], dtype={1:\"str\",2:\"str\",3:\"str\"})\n",
    "FRS_EGRID.columns"
   ]
  },
  {
   "cell_type": "code",
   "execution_count": 134,
   "metadata": {
    "collapsed": false
   },
   "outputs": [],
   "source": [
    "FRS_EGRID = FRS_EGRID.rename(columns={'REGISTRY_ID':'FRS ID'})"
   ]
  },
  {
   "cell_type": "code",
   "execution_count": 135,
   "metadata": {
    "collapsed": false
   },
   "outputs": [],
   "source": [
    "FRS_EGRID.to_csv('frs_egridimport.csv')"
   ]
  },
  {
   "cell_type": "code",
   "execution_count": 142,
   "metadata": {
    "collapsed": false
   },
   "outputs": [],
   "source": [
    "EGRIDFRS1 = pd.merge(EGRID,FRS_EGRID,left_on='ORISPL', right_on='PGM_SYS_ID') "
   ]
  },
  {
   "cell_type": "code",
   "execution_count": 143,
   "metadata": {
    "collapsed": false
   },
   "outputs": [
    {
     "data": {
      "text/plain": [
       "5463"
      ]
     },
     "execution_count": 143,
     "metadata": {},
     "output_type": "execute_result"
    }
   ],
   "source": [
    "len(EGRIDFRS1)"
   ]
  },
  {
   "cell_type": "code",
   "execution_count": 138,
   "metadata": {
    "collapsed": false
   },
   "outputs": [],
   "source": [
    "EGRIDFRS1.to_csv('egridfrs1.csv')"
   ]
  },
  {
   "cell_type": "code",
   "execution_count": 108,
   "metadata": {
    "collapsed": false
   },
   "outputs": [],
   "source": [
    "EGRIDFRS_NoMatch = EGRID[EGRID['ORISPL'].isin(EGRIDFRS1['ORISPL']) == False]\n",
    "#EGRIDFRS1['REGISTRY_ID']\n",
    "#EGRIDFRS2 = EGRIDFRS1[pd.isnull(EGRIDFRS1['REGISTRY_ID'])]"
   ]
  },
  {
   "cell_type": "code",
   "execution_count": 109,
   "metadata": {
    "collapsed": false
   },
   "outputs": [
    {
     "data": {
      "text/plain": [
       "3040"
      ]
     },
     "execution_count": 109,
     "metadata": {},
     "output_type": "execute_result"
    }
   ],
   "source": [
    "len(EGRIDFRS_NoMatch)"
   ]
  },
  {
   "cell_type": "code",
   "execution_count": 110,
   "metadata": {
    "collapsed": true
   },
   "outputs": [],
   "source": [
    "EGRIDFRS_NoMatch.to_csv('EGRIDFRS_NoMatch.csv')"
   ]
  },
  {
   "cell_type": "code",
   "execution_count": 118,
   "metadata": {
    "collapsed": false
   },
   "outputs": [
    {
     "data": {
      "text/plain": [
       "Index(['FRS ID', 'FACILITY NAME', 'ORIS CODE'], dtype='object')"
      ]
     },
     "execution_count": 118,
     "metadata": {},
     "output_type": "execute_result"
    }
   ],
   "source": [
    "#Import CAMD FRS file\n",
    "CAMDFRS = pd.read_csv(\"CAMDwithFRS_Jun2017.csv\", header=0,  usecols=[5,6,7], dtype={5:\"str\",6:\"str\",7:\"str\"})\n",
    "CAMDFRS.columns"
   ]
  },
  {
   "cell_type": "code",
   "execution_count": 115,
   "metadata": {
    "collapsed": false
   },
   "outputs": [
    {
     "data": {
      "text/plain": [
       "2574"
      ]
     },
     "execution_count": 115,
     "metadata": {},
     "output_type": "execute_result"
    }
   ],
   "source": [
    "len(CAMDFRS)"
   ]
  },
  {
   "cell_type": "code",
   "execution_count": 119,
   "metadata": {
    "collapsed": true
   },
   "outputs": [],
   "source": [
    "#Drop CAMD lines where there is no FRS ID\n",
    "CAMDFRS = CAMDFRS[pd.isnull(CAMDFRS['FRS ID']) == False]"
   ]
  },
  {
   "cell_type": "code",
   "execution_count": 120,
   "metadata": {
    "collapsed": false
   },
   "outputs": [
    {
     "data": {
      "text/plain": [
       "2324"
      ]
     },
     "execution_count": 120,
     "metadata": {},
     "output_type": "execute_result"
    }
   ],
   "source": [
    "len(CAMDFRS)"
   ]
  },
  {
   "cell_type": "code",
   "execution_count": 121,
   "metadata": {
    "collapsed": false
   },
   "outputs": [],
   "source": [
    "EGRIDCAMDALL = pd.merge(EGRID,CAMDFRS,left_on='ORISPL',right_on='ORIS CODE')"
   ]
  },
  {
   "cell_type": "code",
   "execution_count": 122,
   "metadata": {
    "collapsed": false
   },
   "outputs": [
    {
     "data": {
      "text/plain": [
       "1922"
      ]
     },
     "execution_count": 122,
     "metadata": {},
     "output_type": "execute_result"
    }
   ],
   "source": [
    "len(EGRIDCAMDALL)"
   ]
  },
  {
   "cell_type": "code",
   "execution_count": 105,
   "metadata": {
    "collapsed": true
   },
   "outputs": [],
   "source": [
    "EGRIDCAMDALL.to_csv('EGRIDCAMDALL.csv')"
   ]
  },
  {
   "cell_type": "code",
   "execution_count": 144,
   "metadata": {
    "collapsed": true
   },
   "outputs": [],
   "source": [
    "EGRIDFRSNoMatch_CAMD = pd.merge(EGRIDFRS_NoMatch,CAMDFRS,left_on='ORISPL',right_on='ORIS CODE')"
   ]
  },
  {
   "cell_type": "code",
   "execution_count": 145,
   "metadata": {
    "collapsed": false
   },
   "outputs": [
    {
     "data": {
      "text/plain": [
       "173"
      ]
     },
     "execution_count": 145,
     "metadata": {},
     "output_type": "execute_result"
    }
   ],
   "source": [
    "len(EGRIDFRSNoMatch_CAMD)\n",
    "#Only 173 AdditionalMatches"
   ]
  },
  {
   "cell_type": "code",
   "execution_count": 146,
   "metadata": {
    "collapsed": false
   },
   "outputs": [
    {
     "data": {
      "text/plain": [
       "Index([' PNAME ', 'ORISPL', ' OPRNAME ', 'FRS ID', 'FACILITY NAME',\n",
       "       'ORIS CODE'],\n",
       "      dtype='object')"
      ]
     },
     "execution_count": 146,
     "metadata": {},
     "output_type": "execute_result"
    }
   ],
   "source": [
    "EGRIDFRSNoMatch_CAMD.columns"
   ]
  },
  {
   "cell_type": "code",
   "execution_count": 148,
   "metadata": {
    "collapsed": false
   },
   "outputs": [],
   "source": [
    "EGRIDFRSNoMatch_CAMD.to_csv('EGRIDFRSNoMatch_CAMD.csv')"
   ]
  },
  {
   "cell_type": "code",
   "execution_count": 150,
   "metadata": {
    "collapsed": false
   },
   "outputs": [],
   "source": [
    "EGRIDFRS2 = pd.concat([EGRIDFRS1,EGRIDFRSNoMatch_CAMD])"
   ]
  },
  {
   "cell_type": "code",
   "execution_count": 152,
   "metadata": {
    "collapsed": false
   },
   "outputs": [
    {
     "data": {
      "text/plain": [
       "5636"
      ]
     },
     "execution_count": 152,
     "metadata": {},
     "output_type": "execute_result"
    }
   ],
   "source": [
    "len(EGRIDFRS2)"
   ]
  },
  {
   "cell_type": "code",
   "execution_count": null,
   "metadata": {
    "collapsed": true
   },
   "outputs": [],
   "source": [
    "#Move on two location and name matching\n",
    "#Download single national facility zip file\n",
    "#https://www3.epa.gov/enviro/html/fii/downloads/state_files/national_single.zip\n",
    "\n"
   ]
  },
  {
   "cell_type": "code",
   "execution_count": 155,
   "metadata": {
    "collapsed": false
   },
   "outputs": [
    {
     "data": {
      "text/plain": [
       "Index(['FRS_FACILITY_DETAIL_REPORT_URL', 'REGISTRY_ID', 'PRIMARY_NAME',\n",
       "       'LOCATION_ADDRESS', 'SUPPLEMENTAL_LOCATION', 'CITY_NAME', 'COUNTY_NAME',\n",
       "       'FIPS_CODE', 'STATE_CODE', 'STATE_NAME', 'COUNTRY_NAME', 'POSTAL_CODE',\n",
       "       'FEDERAL_FACILITY_CODE', 'FEDERAL_AGENCY_NAME', 'TRIBAL_LAND_CODE',\n",
       "       'TRIBAL_LAND_NAME', 'CONGRESSIONAL_DIST_NUM', 'CENSUS_BLOCK_CODE',\n",
       "       'HUC_CODE', 'EPA_REGION_CODE', 'SITE_TYPE_NAME', 'LOCATION_DESCRIPTION',\n",
       "       'CREATE_DATE', 'UPDATE_DATE', 'US_MEXICO_BORDER_IND', 'LATITUDE83',\n",
       "       'LONGITUDE83', 'CONVEYOR', 'COLLECT_DESC', 'ACCURACY_VALUE',\n",
       "       'REF_POINT_DESC', 'HDATUM_DESC', 'SOURCE_DESC'],\n",
       "      dtype='object')"
      ]
     },
     "execution_count": 155,
     "metadata": {},
     "output_type": "execute_result"
    }
   ],
   "source": [
    "#R Code\n",
    "##Import FRS Facility file; only certain columns\n",
    "#FACILITY <- read.csv(\"NATIONAL_FACILITY_FILE.csv\", colClasses=c(\"NULL\", NA, NA, \"NULL\", \"NULL\",\n",
    "#\"NULL\", \"NULL\", NA, NA, \"NULL\", \"NULL\", \"NULL\", \"NULL\", \"NULL\", \"NULL\", \"NULL\", \"NULL\", \"NULL\",\n",
    "#\"NULL\", \"NULL\", \"NULL\", \"NULL\", \"NULL\", \"NULL\", \"NULL\", NA, NA, \"NULL\", \"NULL\", \"NULL\", \"NULL\", \"NULL\", \"NULL\"),\n",
    "#header=TRUE, skipNul=TRUE, stringsAsFactors=FALSE, na.strings=\"\")\n",
    "#Omit NAs from 'LATITUDE83' and 'LONGITUDE83'\n",
    "#FACILITY_noNA <- FACILITY[!is.na(FACILITY$LATITUDE83),]\n",
    "#FACILITY_noNA <- FACILITY[!is.na(FACILITY$LONGITUDE83),]\n",
    "FRS_National = pd.read_csv(\"NATIONAL_FACILITY_FILE.csv\", header=0, nrows=1)\n",
    "FRS_National.columns\n",
    "\n",
    "\n",
    "\n",
    "\n"
   ]
  },
  {
   "cell_type": "code",
   "execution_count": 163,
   "metadata": {
    "collapsed": false
   },
   "outputs": [
    {
     "name": "stderr",
     "output_type": "stream",
     "text": [
      "c:\\users\\wingwers\\appdata\\local\\programs\\python\\python35-32\\lib\\site-packages\\IPython\\core\\interactiveshell.py:2705: DtypeWarning: Columns (26,25) have mixed types. Specify dtype option on import or set low_memory=False.\n",
      "  interactivity=interactivity, compiler=compiler, result=result)\n"
     ]
    },
    {
     "data": {
      "text/plain": [
       "3660279"
      ]
     },
     "execution_count": 163,
     "metadata": {},
     "output_type": "execute_result"
    }
   ],
   "source": [
    "FRS_National = pd.read_csv(\"NATIONAL_FACILITY_FILE.csv\", header=0, usecols=['REGISTRY_ID','PRIMARY_NAME','LATITUDE83','LONGITUDE83'],\n",
    "                           dtype={'REGISTRY_ID':\"str\",'PRIMARY_NAME':\"str\"},\n",
    "                          error_bad_lines=False)\n",
    "len(FRS_National.index)\n",
    "#throws an error when trying to force LAT and LONG to be float64 because they are strings"
   ]
  },
  {
   "cell_type": "code",
   "execution_count": 166,
   "metadata": {
    "collapsed": false
   },
   "outputs": [],
   "source": [
    "#Errors when setting \n",
    "#need to drop bad LAT, LON\n"
   ]
  },
  {
   "cell_type": "code",
   "execution_count": null,
   "metadata": {
    "collapsed": false
   },
   "outputs": [],
   "source": []
  },
  {
   "cell_type": "code",
   "execution_count": null,
   "metadata": {
    "collapsed": true
   },
   "outputs": [],
   "source": []
  }
 ],
 "metadata": {
  "kernelspec": {
   "display_name": "Python 3",
   "language": "python",
   "name": "python3"
  },
  "language_info": {
   "codemirror_mode": {
    "name": "ipython",
    "version": 3
   },
   "file_extension": ".py",
   "mimetype": "text/x-python",
   "name": "python",
   "nbconvert_exporter": "python",
   "pygments_lexer": "ipython3",
   "version": "3.5.2"
  }
 },
 "nbformat": 4,
 "nbformat_minor": 0
}
