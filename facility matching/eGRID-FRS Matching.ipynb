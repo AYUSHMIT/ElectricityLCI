{
 "cells": [
  {
   "cell_type": "code",
   "execution_count": 26,
   "metadata": {
    "collapsed": false
   },
   "outputs": [
    {
     "data": {
      "text/plain": [
       "Index([' PNAME ', 'ORISPL', ' OPRNAME '], dtype='object')"
      ]
     },
     "execution_count": 26,
     "metadata": {},
     "output_type": "execute_result"
    }
   ],
   "source": [
    "import pandas as pd\n",
    "#Step 1 - Import eGRID 2014 plant data\n",
    "#Import file and store as a data frame\n",
    "EGRID = pd.read_csv(\"../EGRIDPlant2014.csv\", header=0, usecols=[2,3,4],dtype={2:\"str\",3:\"str\",4:\"str\"})\n",
    "EGRID.columns"
   ]
  },
  {
   "cell_type": "code",
   "execution_count": 85,
   "metadata": {
    "collapsed": false
   },
   "outputs": [],
   "source": [
    "EGRID.to_csv('egridfromimport.csv')"
   ]
  },
  {
   "cell_type": "code",
   "execution_count": 86,
   "metadata": {
    "collapsed": false
   },
   "outputs": [
    {
     "data": {
      "text/plain": [
       "23428"
      ]
     },
     "execution_count": 86,
     "metadata": {},
     "output_type": "execute_result"
    }
   ],
   "source": [
    "len(EGRID.index)"
   ]
  },
  {
   "cell_type": "code",
   "execution_count": 27,
   "metadata": {
    "collapsed": false
   },
   "outputs": [],
   "source": [
    "EGRID = EGRID.dropna(axis=0,how='all')"
   ]
  },
  {
   "cell_type": "code",
   "execution_count": 28,
   "metadata": {
    "collapsed": false
   },
   "outputs": [
    {
     "data": {
      "text/plain": [
       "8503"
      ]
     },
     "execution_count": 28,
     "metadata": {},
     "output_type": "execute_result"
    }
   ],
   "source": [
    "len(EGRID['ORISPL'])"
   ]
  },
  {
   "cell_type": "code",
   "execution_count": 89,
   "metadata": {
    "collapsed": false
   },
   "outputs": [
    {
     "data": {
      "text/plain": [
       "Index([' PNAME ', 'ORISPL', ' OPRNAME '], dtype='object')"
      ]
     },
     "execution_count": 89,
     "metadata": {},
     "output_type": "execute_result"
    }
   ],
   "source": [
    "EGRID.columns"
   ]
  },
  {
   "cell_type": "code",
   "execution_count": 9,
   "metadata": {
    "collapsed": false,
    "scrolled": false
   },
   "outputs": [
    {
     "data": {
      "text/plain": [
       "['NATIONAL_ALTERNATIVE_NAME_FILE.CSV',\n",
       " 'NATIONAL_CONTACT_FILE.CSV',\n",
       " 'NATIONAL_ENVIRONMENTAL_INTEREST_FILE.CSV',\n",
       " 'NATIONAL_FACILITY_FILE.CSV',\n",
       " 'NATIONAL_MAILING_ADDRESS_FILE.CSV',\n",
       " 'NATIONAL_NAICS_FILE.CSV',\n",
       " 'NATIONAL_ORGANIZATION_FILE.CSV',\n",
       " 'NATIONAL_SIC_FILE.CSV',\n",
       " 'NATIONAL_SUPP_INTEREST_FILE.CSV',\n",
       " 'Facility State File Documentation 11132012.pdf']"
      ]
     },
     "execution_count": 9,
     "metadata": {},
     "output_type": "execute_result"
    }
   ],
   "source": [
    "#R Code\n",
    "\n",
    "import pandas as pd\n",
    "import zipfile as zipfile\n",
    "#FACILITY <- read.csv(\"NATIONAL_FACILITY_FILE.csv\", colClasses=c(\"NULL\", NA, NA, \"NULL\", \"NULL\",\n",
    "#\"NULL\", \"NULL\", NA, NA, \"NULL\", \"NULL\", \"NULL\", \"NULL\", \"NULL\", \"NULL\", \"NULL\", \"NULL\", \"NULL\",\n",
    "#\"NULL\", \"NULL\", \"NULL\", \"NULL\", \"NULL\", \"NULL\", \"NULL\", NA, NA, \"NULL\", \"NULL\", \"NULL\", \"NULL\", \"NULL\", \"NULL\"),\n",
    "#header=TRUE, skipNul=TRUE, stringsAsFactors=FALSE, na.strings=\"\")\n",
    "#Omit NAs from 'LATITUDE83' and 'LONGITUDE83'\n",
    "#FACILITY_noNA <- FACILITY[!is.na(FACILITY$LATITUDE83),]\n",
    "#FACILITY_noNA <- FACILITY[!is.na(FACILITY$LONGITUDE83),]\n",
    "\n",
    "\n",
    "##Import FRS Facility Combined Zip file; see its contents\n",
    "#Uncomment next line to download to current directory\n",
    "#FRS_LOC = \"https://www3.epa.gov/enviro/html/fii/downloads/state_files/national_combined.zip\"\n",
    "FRS_LOC = \"national_combined.zip\"\n",
    "FRS_zip = zipfile.ZipFile(FRS_LOC,mode='r')\n",
    "FRS_zip.namelist()"
   ]
  },
  {
   "cell_type": "code",
   "execution_count": 14,
   "metadata": {
    "collapsed": false
   },
   "outputs": [
    {
     "data": {
      "text/plain": [
       "Index(['REGISTRY_ID', 'PGM_SYS_ACRNM', 'PGM_SYS_ID', 'INTEREST_TYPE',\n",
       "       'FED_STATE_CODE', 'START_DATE', 'START_DATE_QUALIFIER', 'END_DATE',\n",
       "       'END_DATE_QUALIFIER', 'SOURCE_OF_DATA', 'LAST_REPORTED_DATE',\n",
       "       'CREATE_DATE', 'UPDATE_DATE'],\n",
       "      dtype='object')"
      ]
     },
     "execution_count": 14,
     "metadata": {},
     "output_type": "execute_result"
    }
   ],
   "source": [
    "#Extract bridge file 'NATIONAL_ENVIRONMENTAL_INTEREST_FILE.CSV' and get column names\n",
    "FRS_BridgeFile = FRS_zip.extract('NATIONAL_ENVIRONMENTAL_INTEREST_FILE.CSV')\n",
    "FRS_Bridges = pd.read_csv(FRS_BridgeFile, header=0, nrows=1)\n",
    "FRS_Bridges.columns"
   ]
  },
  {
   "cell_type": "code",
   "execution_count": 15,
   "metadata": {
    "collapsed": true
   },
   "outputs": [],
   "source": [
    "FRS_Bridges = pd.read_csv(FRS_BridgeFile, header=0,usecols=['REGISTRY_ID','PGM_SYS_ACRNM', 'PGM_SYS_ID',],dtype={'REGISTRY_ID':\"str\",'PGM_SYS_ACRNM':\"str\",'PGM_SYS_ID':\"str\"})"
   ]
  },
  {
   "cell_type": "code",
   "execution_count": 19,
   "metadata": {
    "collapsed": false
   },
   "outputs": [
    {
     "data": {
      "text/plain": [
       "array(['NCDB', 'AIR', 'RCRAINFO', 'NPDES', 'OTAQREG', 'EIS', 'TRIS',\n",
       "       'AIRS/AFS', 'ICIS', 'BR', 'RMP', 'SEMS', 'SSTS', 'CEDRI', 'TSCA',\n",
       "       'SFDW', 'E-GGRT', 'RBLC', 'EGRID', 'CAMDBS', 'EIA-860', 'FFDOCKET',\n",
       "       'AIRS/AQS', 'LMOP', 'ACRES', 'BRAC', 'ECRM', 'LUST-ARRA', 'REGION',\n",
       "       'MN-TEMPO', 'PGM_SYS_ACRNM', 'PERMIT TRACKING', 'PDS', 'KY-TEMPO',\n",
       "       'RADINFO', 'TX-TCEQ ACR', 'RFS', 'AZURITE', 'STATE', 'NNEMS',\n",
       "       'BIA INDIAN SCHOOL', 'SRPMICEMS', 'NM-TEMPO', 'LANDFILL',\n",
       "       'CA-ENVIROVIEW', 'HWTS-DATAMART', 'DTSC-ENVIROSTOR', 'CA-CERS',\n",
       "       'UORS', 'CASWIS', 'NV-FP', 'ECOMAP', 'SIMS', 'FARR', 'DEN', 'FDM',\n",
       "       'MS-ENSITE', 'SC-EFIS', 'NC-FITS', 'GEIMS', 'HI-EHW', 'SWIPR',\n",
       "       'IDNR_EFD', 'MO-DNR', 'IDDEQ', 'CDAFLP', 'WA-FSIS', 'ACES',\n",
       "       'IN-FRS', 'TEST', 'IN-TEMPO', 'KS-FP', 'LA-TEMPO', 'MA-EPICS',\n",
       "       'MD-TEMPO', 'MD-EPSC', 'MD-PEMIS', 'MD-RCRA', 'PA-EFACTS',\n",
       "       'ME-EFIS', 'WI-ESR', 'MT-CEDARS', 'FIS', 'ND-FP', 'NDEQ', 'NH-DES',\n",
       "       'NJ-NJEMS', 'OH-CORE', 'CNFRS', 'OR-DEQ', 'RI-PLOVER', 'UST', 'CIM',\n",
       "       'CEDS', 'ISD'], dtype=object)"
      ]
     },
     "execution_count": 19,
     "metadata": {},
     "output_type": "execute_result"
    }
   ],
   "source": [
    "#Show list of facility matching\n",
    "pd.unique(FRS_Bridges['PGM_SYS_ACRNM'])"
   ]
  },
  {
   "cell_type": "code",
   "execution_count": 29,
   "metadata": {
    "collapsed": false
   },
   "outputs": [
    {
     "data": {
      "text/plain": [
       "5587"
      ]
     },
     "execution_count": 29,
     "metadata": {},
     "output_type": "execute_result"
    }
   ],
   "source": [
    "#Get only FRS to EIS bridge\n",
    "FRS_EGRID = FRS_Bridges[FRS_Bridges['PGM_SYS_ACRNM'] == 'EGRID']\n",
    "len(FRS_EGRID)\n",
    "#FRS_EGRID = pd.read_csv(\"FRS_EGRID_mapping.csv\", header=0,  usecols=[1,2,3], dtype={1:\"str\",2:\"str\",3:\"str\"})\n",
    "#FRS_EGRID.columns"
   ]
  },
  {
   "cell_type": "code",
   "execution_count": 30,
   "metadata": {
    "collapsed": false
   },
   "outputs": [],
   "source": [
    "FRS_EGRID = FRS_EGRID.rename(columns={'REGISTRY_ID':'FRS ID'})"
   ]
  },
  {
   "cell_type": "code",
   "execution_count": 135,
   "metadata": {
    "collapsed": false
   },
   "outputs": [],
   "source": [
    "FRS_EGRID.to_csv('frs_egridimport.csv')"
   ]
  },
  {
   "cell_type": "code",
   "execution_count": 31,
   "metadata": {
    "collapsed": false
   },
   "outputs": [],
   "source": [
    "EGRIDFRS1 = pd.merge(EGRID,FRS_EGRID,left_on='ORISPL', right_on='PGM_SYS_ID') "
   ]
  },
  {
   "cell_type": "code",
   "execution_count": 32,
   "metadata": {
    "collapsed": false
   },
   "outputs": [
    {
     "data": {
      "text/plain": [
       "5463"
      ]
     },
     "execution_count": 32,
     "metadata": {},
     "output_type": "execute_result"
    }
   ],
   "source": [
    "len(EGRIDFRS1)"
   ]
  },
  {
   "cell_type": "code",
   "execution_count": 138,
   "metadata": {
    "collapsed": false
   },
   "outputs": [],
   "source": [
    "EGRIDFRS1.to_csv('egridfrs1.csv')"
   ]
  },
  {
   "cell_type": "code",
   "execution_count": 38,
   "metadata": {
    "collapsed": false
   },
   "outputs": [],
   "source": [
    "EGRIDFRS_NoMatch = EGRID[EGRID['ORISPL'].isin(EGRIDFRS1['ORISPL']) == False]\n",
    "#EGRIDFRS1['REGISTRY_ID']\n",
    "#EGRIDFRS2 = EGRIDFRS1[pd.isnull(EGRIDFRS1['REGISTRY_ID'])]"
   ]
  },
  {
   "cell_type": "code",
   "execution_count": 109,
   "metadata": {
    "collapsed": false
   },
   "outputs": [
    {
     "data": {
      "text/plain": [
       "3040"
      ]
     },
     "execution_count": 109,
     "metadata": {},
     "output_type": "execute_result"
    }
   ],
   "source": [
    "len(EGRIDFRS_NoMatch)"
   ]
  },
  {
   "cell_type": "code",
   "execution_count": 110,
   "metadata": {
    "collapsed": true
   },
   "outputs": [],
   "source": [
    "EGRIDFRS_NoMatch.to_csv('EGRIDFRS_NoMatch.csv')"
   ]
  },
  {
   "cell_type": "code",
   "execution_count": 33,
   "metadata": {
    "collapsed": false
   },
   "outputs": [
    {
     "data": {
      "text/plain": [
       "Index(['FRS ID', 'FACILITY NAME', 'ORIS CODE'], dtype='object')"
      ]
     },
     "execution_count": 33,
     "metadata": {},
     "output_type": "execute_result"
    }
   ],
   "source": [
    "#Import CAMD FRS file\n",
    "CAMDFRS = pd.read_csv(\"CAMDwithFRS_Jun2017.csv\", header=0,  usecols=[5,6,7], dtype={5:\"str\",6:\"str\",7:\"str\"})\n",
    "CAMDFRS.columns"
   ]
  },
  {
   "cell_type": "code",
   "execution_count": 34,
   "metadata": {
    "collapsed": false
   },
   "outputs": [
    {
     "data": {
      "text/plain": [
       "2574"
      ]
     },
     "execution_count": 34,
     "metadata": {},
     "output_type": "execute_result"
    }
   ],
   "source": [
    "len(CAMDFRS)"
   ]
  },
  {
   "cell_type": "code",
   "execution_count": 35,
   "metadata": {
    "collapsed": true
   },
   "outputs": [],
   "source": [
    "#Drop CAMD lines where there is no FRS ID\n",
    "CAMDFRS = CAMDFRS[pd.isnull(CAMDFRS['FRS ID']) == False]"
   ]
  },
  {
   "cell_type": "code",
   "execution_count": 36,
   "metadata": {
    "collapsed": false
   },
   "outputs": [
    {
     "data": {
      "text/plain": [
       "2324"
      ]
     },
     "execution_count": 36,
     "metadata": {},
     "output_type": "execute_result"
    }
   ],
   "source": [
    "len(CAMDFRS)"
   ]
  },
  {
   "cell_type": "code",
   "execution_count": 121,
   "metadata": {
    "collapsed": false
   },
   "outputs": [],
   "source": [
    "EGRIDCAMDALL = pd.merge(EGRID,CAMDFRS,left_on='ORISPL',right_on='ORIS CODE')"
   ]
  },
  {
   "cell_type": "code",
   "execution_count": 122,
   "metadata": {
    "collapsed": false
   },
   "outputs": [
    {
     "data": {
      "text/plain": [
       "1922"
      ]
     },
     "execution_count": 122,
     "metadata": {},
     "output_type": "execute_result"
    }
   ],
   "source": [
    "len(EGRIDCAMDALL)"
   ]
  },
  {
   "cell_type": "code",
   "execution_count": 105,
   "metadata": {
    "collapsed": true
   },
   "outputs": [],
   "source": [
    "EGRIDCAMDALL.to_csv('EGRIDCAMDALL.csv')"
   ]
  },
  {
   "cell_type": "code",
   "execution_count": 39,
   "metadata": {
    "collapsed": false
   },
   "outputs": [],
   "source": [
    "EGRIDFRSNoMatch_CAMD = pd.merge(EGRIDFRS_NoMatch,CAMDFRS,left_on='ORISPL',right_on='ORIS CODE')"
   ]
  },
  {
   "cell_type": "code",
   "execution_count": 40,
   "metadata": {
    "collapsed": false
   },
   "outputs": [
    {
     "data": {
      "text/plain": [
       "173"
      ]
     },
     "execution_count": 40,
     "metadata": {},
     "output_type": "execute_result"
    }
   ],
   "source": [
    "len(EGRIDFRSNoMatch_CAMD)\n",
    "#Only 173 AdditionalMatches"
   ]
  },
  {
   "cell_type": "code",
   "execution_count": 146,
   "metadata": {
    "collapsed": false
   },
   "outputs": [
    {
     "data": {
      "text/plain": [
       "Index([' PNAME ', 'ORISPL', ' OPRNAME ', 'FRS ID', 'FACILITY NAME',\n",
       "       'ORIS CODE'],\n",
       "      dtype='object')"
      ]
     },
     "execution_count": 146,
     "metadata": {},
     "output_type": "execute_result"
    }
   ],
   "source": [
    "EGRIDFRSNoMatch_CAMD.columns"
   ]
  },
  {
   "cell_type": "code",
   "execution_count": 148,
   "metadata": {
    "collapsed": false
   },
   "outputs": [],
   "source": [
    "EGRIDFRSNoMatch_CAMD.to_csv('EGRIDFRSNoMatch_CAMD.csv')"
   ]
  },
  {
   "cell_type": "code",
   "execution_count": 41,
   "metadata": {
    "collapsed": false
   },
   "outputs": [
    {
     "data": {
      "text/plain": [
       "5636"
      ]
     },
     "execution_count": 41,
     "metadata": {},
     "output_type": "execute_result"
    }
   ],
   "source": [
    "EGRIDFRS2 = pd.concat([EGRIDFRS1,EGRIDFRSNoMatch_CAMD])\n",
    "len(EGRIDFRS2)"
   ]
  },
  {
   "cell_type": "code",
   "execution_count": 42,
   "metadata": {
    "collapsed": true
   },
   "outputs": [],
   "source": [
    "EGRIDFRS2.to_csv('egridfrs2.csv')"
   ]
  },
  {
   "cell_type": "code",
   "execution_count": 17,
   "metadata": {
    "collapsed": false
   },
   "outputs": [
    {
     "data": {
      "text/plain": [
       "154874"
      ]
     },
     "execution_count": 17,
     "metadata": {},
     "output_type": "execute_result"
    }
   ],
   "source": [
    "#Get only FRS to EIS bridge\n",
    "FRS_EIS_Bridge = FRS_Bridges[FRS_Bridges['PGM_SYS_ACRNM'] == 'EIS']\n",
    "len(FRS_EIS_Bridge)"
   ]
  },
  {
   "cell_type": "code",
   "execution_count": 18,
   "metadata": {
    "collapsed": true
   },
   "outputs": [],
   "source": [
    "#Export the initial file to take a look\n",
    "FRS_EIS_Bridge.to_csv('FRStoEIS1.csv')"
   ]
  },
  {
   "cell_type": "code",
   "execution_count": 20,
   "metadata": {
    "collapsed": false
   },
   "outputs": [
    {
     "data": {
      "text/plain": [
       "62218"
      ]
     },
     "execution_count": 20,
     "metadata": {},
     "output_type": "execute_result"
    }
   ],
   "source": [
    "#Get only FRS to TRI bridge\n",
    "FRS_TRI_Bridge = FRS_Bridges[FRS_Bridges['PGM_SYS_ACRNM'] == 'TRIS']\n",
    "len(FRS_TRI_Bridge)"
   ]
  },
  {
   "cell_type": "code",
   "execution_count": 21,
   "metadata": {
    "collapsed": true
   },
   "outputs": [],
   "source": [
    "FRS_TRI_Bridge.to_csv('FRStoTRI1.csv')"
   ]
  },
  {
   "cell_type": "code",
   "execution_count": 22,
   "metadata": {
    "collapsed": false
   },
   "outputs": [
    {
     "data": {
      "text/plain": [
       "669100"
      ]
     },
     "execution_count": 22,
     "metadata": {},
     "output_type": "execute_result"
    }
   ],
   "source": [
    "#Get only FRS to NPDES for \n",
    "FRS_NPDES_Bridge = FRS_Bridges[FRS_Bridges['PGM_SYS_ACRNM'] == 'NPDES']\n",
    "len(FRS_NPDES_Bridge)"
   ]
  },
  {
   "cell_type": "code",
   "execution_count": 23,
   "metadata": {
    "collapsed": true
   },
   "outputs": [],
   "source": [
    "FRS_NPDES_Bridge.to_csv('FRStoNPDES1.csv')"
   ]
  },
  {
   "cell_type": "code",
   "execution_count": null,
   "metadata": {
    "collapsed": true
   },
   "outputs": [],
   "source": []
  },
  {
   "cell_type": "code",
   "execution_count": 24,
   "metadata": {
    "collapsed": false
   },
   "outputs": [
    {
     "data": {
      "text/plain": [
       "Index(['FRS_FACILITY_DETAIL_REPORT_URL', 'REGISTRY_ID', 'PRIMARY_NAME',\n",
       "       'LOCATION_ADDRESS', 'SUPPLEMENTAL_LOCATION', 'CITY_NAME', 'COUNTY_NAME',\n",
       "       'FIPS_CODE', 'STATE_CODE', 'STATE_NAME', 'COUNTRY_NAME', 'POSTAL_CODE',\n",
       "       'FEDERAL_FACILITY_CODE', 'FEDERAL_AGENCY_NAME', 'TRIBAL_LAND_CODE',\n",
       "       'TRIBAL_LAND_NAME', 'CONGRESSIONAL_DIST_NUM', 'CENSUS_BLOCK_CODE',\n",
       "       'HUC_CODE', 'EPA_REGION_CODE', 'SITE_TYPE_NAME', 'LOCATION_DESCRIPTION',\n",
       "       'CREATE_DATE', 'UPDATE_DATE', 'US_MEXICO_BORDER_IND', 'LATITUDE83',\n",
       "       'LONGITUDE83', 'CONVEYOR', 'COLLECT_DESC', 'ACCURACY_VALUE',\n",
       "       'REF_POINT_DESC', 'HDATUM_DESC', 'SOURCE_DESC'],\n",
       "      dtype='object')"
      ]
     },
     "execution_count": 24,
     "metadata": {},
     "output_type": "execute_result"
    }
   ],
   "source": [
    "FRS_NationalFile = FRS_zip.extract('NATIONAL_FACILITY_FILE.CSV') \n",
    "FRS_National = pd.read_csv('NATIONAL_FACILITY_FILE.csv', header=0, nrows=1)\n",
    "FRS_National.columns"
   ]
  },
  {
   "cell_type": "code",
   "execution_count": 6,
   "metadata": {
    "collapsed": false
   },
   "outputs": [
    {
     "name": "stderr",
     "output_type": "stream",
     "text": [
      "c:\\users\\wingwers\\appdata\\local\\programs\\python\\python35-32\\lib\\site-packages\\IPython\\core\\interactiveshell.py:2705: DtypeWarning: Columns (26,25) have mixed types. Specify dtype option on import or set low_memory=False.\n",
      "  interactivity=interactivity, compiler=compiler, result=result)\n"
     ]
    },
    {
     "data": {
      "text/plain": [
       "1000000"
      ]
     },
     "execution_count": 6,
     "metadata": {},
     "output_type": "execute_result"
    }
   ],
   "source": [
    "FRS_National = pd.read_csv(\"NATIONAL_FACILITY_FILE.csv\", header=0, usecols=['REGISTRY_ID','PRIMARY_NAME','LATITUDE83','LONGITUDE83'],\n",
    "                           dtype={'REGISTRY_ID':\"str\",'PRIMARY_NAME':\"str\"}, nrows=1000000, error_bad_lines=False)\n",
    "len(FRS_National.index)\n",
    "#throws an error when trying to force LAT and LONG to be float64 because they are strings"
   ]
  },
  {
   "cell_type": "code",
   "execution_count": 166,
   "metadata": {
    "collapsed": false
   },
   "outputs": [],
   "source": [
    "#Errors when setting \n",
    "#need to drop bad LAT, LON\n"
   ]
  },
  {
   "cell_type": "code",
   "execution_count": 46,
   "metadata": {
    "collapsed": false
   },
   "outputs": [
    {
     "data": {
      "text/plain": [
       "Index(['REGISTRY_ID', 'PGM_SYS_ACRNM', 'PGM_SYS_ID'], dtype='object')"
      ]
     },
     "execution_count": 46,
     "metadata": {},
     "output_type": "execute_result"
    }
   ],
   "source": [
    "FRS_EIS_Bridge.columns"
   ]
  },
  {
   "cell_type": "code",
   "execution_count": 47,
   "metadata": {
    "collapsed": false
   },
   "outputs": [
    {
     "data": {
      "text/plain": [
       "2664"
      ]
     },
     "execution_count": 47,
     "metadata": {},
     "output_type": "execute_result"
    }
   ],
   "source": [
    "#Put the varible name with the \n",
    "FRS_EIS_Bridge = FRS_EIS_Bridge.rename(columns={'REGISTRY_ID':'FRS ID'})\n",
    "EGRIDFRSwEIS = pd.merge(EGRIDFRS2,FRS_EIS_Bridge,left_on='FRS ID',right_on='FRS ID')\n",
    "len(EGRIDFRSwEIS)"
   ]
  },
  {
   "cell_type": "code",
   "execution_count": 48,
   "metadata": {
    "collapsed": true
   },
   "outputs": [],
   "source": [
    "EGRIDFRSwEIS.to_csv('EGRIDtoEIS1.csv')"
   ]
  },
  {
   "cell_type": "code",
   "execution_count": null,
   "metadata": {
    "collapsed": true
   },
   "outputs": [],
   "source": []
  }
 ],
 "metadata": {
  "kernelspec": {
   "display_name": "Python 3",
   "language": "python",
   "name": "python3"
  },
  "language_info": {
   "codemirror_mode": {
    "name": "ipython",
    "version": 3
   },
   "file_extension": ".py",
   "mimetype": "text/x-python",
   "name": "python",
   "nbconvert_exporter": "python",
   "pygments_lexer": "ipython3",
   "version": "3.5.2"
  }
 },
 "nbformat": 4,
 "nbformat_minor": 0
}
